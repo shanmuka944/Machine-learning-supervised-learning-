{
 "cells": [
  {
   "cell_type": "code",
   "execution_count": 1,
   "metadata": {
    "scrolled": true
   },
   "outputs": [
    {
     "name": "stdout",
     "output_type": "stream",
     "text": [
      "(1058, 4)\n",
      "<class 'pandas.core.frame.DataFrame'>\n",
      "RangeIndex: 1058 entries, 0 to 1057\n",
      "Data columns (total 4 columns):\n",
      " #   Column  Non-Null Count  Dtype  \n",
      "---  ------  --------------  -----  \n",
      " 0   CAS     1058 non-null   object \n",
      " 1   Name    1058 non-null   object \n",
      " 2   LogKOW  1056 non-null   float64\n",
      " 3   logBCF  1056 non-null   float64\n",
      "dtypes: float64(2), object(2)\n",
      "memory usage: 33.2+ KB\n",
      "None\n"
     ]
    }
   ],
   "source": [
    "import numpy as np\n",
    "import pandas as pd\n",
    "import seaborn as sb\n",
    "from sklearn import linear_model\n",
    "from sklearn import metrics\n",
    "import matplotlib.pyplot as plt\n",
    "df=pd.read_csv(\"C:\\\\Users\\\\Shannu\\\\Downloads\\\\QSAR_fish_BCF\\\\QSAR_BCF_Kow.csv\")\n",
    "df.drop('SMILES',axis=1,inplace=True)\n",
    "df.drop('KOW type',axis=1,inplace=True)\n",
    "print(df.shape)\n",
    "print(df.info())"
   ]
  },
  {
   "cell_type": "code",
   "execution_count": 2,
   "metadata": {},
   "outputs": [
    {
     "name": "stderr",
     "output_type": "stream",
     "text": [
      "C:\\Users\\Shannu\\anaconda3\\lib\\site-packages\\ipykernel_launcher.py:5: SettingWithCopyWarning: \n",
      "A value is trying to be set on a copy of a slice from a DataFrame\n",
      "\n",
      "See the caveats in the documentation: https://pandas.pydata.org/pandas-docs/stable/user_guide/indexing.html#returning-a-view-versus-a-copy\n",
      "  \"\"\"\n"
     ]
    }
   ],
   "source": [
    "c=0\n",
    "for i in df[\"CAS\"]:\n",
    "  c+=1\n",
    "  if i[0:8]==\"V-Mey_NA\":\n",
    "        df[\"LogKOW\"][c]=np.NaN"
   ]
  },
  {
   "cell_type": "code",
   "execution_count": 3,
   "metadata": {},
   "outputs": [
    {
     "name": "stdout",
     "output_type": "stream",
     "text": [
      "               CAS  Name  LogKOW  logBCF\n",
      "0         105-67-9  n.a.    2.30    1.18\n",
      "1         108-39-4  n.a.    1.96    1.03\n",
      "2      113136-77-9  n.a.    1.98   -0.40\n",
      "3      114311-32-9  n.a.    1.02   -1.00\n",
      "4        1689-84-5  n.a.    2.99    0.84\n",
      "...            ...   ...     ...     ...\n",
      "1053   V-Mey_NA_04  n.a.     NaN    3.71\n",
      "1054   V-Mey_NA_05  n.a.     NaN    3.92\n",
      "1055   V-Mey_NA_06  n.a.     NaN    3.76\n",
      "1056   V-Mey_NA_07  n.a.     NaN    3.19\n",
      "1057   V-Mey_NA_08  n.a.     NaN    2.85\n",
      "\n",
      "[1058 rows x 4 columns]\n"
     ]
    }
   ],
   "source": [
    "print(df)"
   ]
  },
  {
   "cell_type": "code",
   "execution_count": 7,
   "metadata": {},
   "outputs": [],
   "source": [
    "df.fillna(0,inplace=True)"
   ]
  },
  {
   "cell_type": "code",
   "execution_count": 8,
   "metadata": {},
   "outputs": [
    {
     "name": "stdout",
     "output_type": "stream",
     "text": [
      "      Name  LogKOW  logBCF\n",
      "0     n.a.    2.30    1.18\n",
      "1     n.a.    1.96    1.03\n",
      "2     n.a.    1.98   -0.40\n",
      "3     n.a.    1.02   -1.00\n",
      "4     n.a.    2.99    0.84\n",
      "...    ...     ...     ...\n",
      "1053  n.a.    0.00    3.71\n",
      "1054  n.a.    0.00    3.92\n",
      "1055  n.a.    0.00    3.76\n",
      "1056  n.a.    0.00    3.19\n",
      "1057  n.a.    0.00    2.85\n",
      "\n",
      "[1058 rows x 3 columns]\n"
     ]
    }
   ],
   "source": [
    "print(df)"
   ]
  },
  {
   "cell_type": "code",
   "execution_count": 10,
   "metadata": {},
   "outputs": [
    {
     "name": "stdout",
     "output_type": "stream",
     "text": [
      "<class 'pandas.core.frame.DataFrame'>\n",
      "RangeIndex: 1058 entries, 0 to 1057\n",
      "Data columns (total 3 columns):\n",
      " #   Column  Non-Null Count  Dtype  \n",
      "---  ------  --------------  -----  \n",
      " 0   Name    1058 non-null   object \n",
      " 1   LogKOW  1058 non-null   float64\n",
      " 2   logBCF  1058 non-null   float64\n",
      "dtypes: float64(2), object(1)\n",
      "memory usage: 24.9+ KB\n",
      "None\n"
     ]
    }
   ],
   "source": [
    "\n",
    "print(df.info())"
   ]
  },
  {
   "cell_type": "code",
   "execution_count": null,
   "metadata": {},
   "outputs": [],
   "source": []
  },
  {
   "cell_type": "code",
   "execution_count": 12,
   "metadata": {},
   "outputs": [
    {
     "name": "stdout",
     "output_type": "stream",
     "text": [
      "1.0\n",
      "0.0\n",
      "0    0.428571\n",
      "1    0.411007\n",
      "2    0.243560\n",
      "3    0.173302\n",
      "4    0.388759\n",
      "Name: logBCF, dtype: float64\n"
     ]
    }
   ],
   "source": [
    "df['logBCF']=((df['logBCF']-df['logBCF'].min())/(df['logBCF'].max()-df['logBCF'].min()))\n",
    "print(df['logBCF'].max())\n",
    "print(df['logBCF'].min())\n",
    "print(df['logBCF'].head())"
   ]
  },
  {
   "cell_type": "code",
   "execution_count": 13,
   "metadata": {},
   "outputs": [
    {
     "name": "stdout",
     "output_type": "stream",
     "text": [
      "1.0\n",
      "0.0\n",
      "0    0.281879\n",
      "1    0.266667\n",
      "2    0.267562\n",
      "3    0.224609\n",
      "4    0.312752\n",
      "Name: LogKOW, dtype: float64\n"
     ]
    }
   ],
   "source": [
    "df['LogKOW']=((df['LogKOW']-df['LogKOW'].min())/(df['LogKOW'].max()-df['LogKOW'].min()))\n",
    "print(df['LogKOW'].max())\n",
    "print(df['LogKOW'].min())\n",
    "print(df['LogKOW'].head())"
   ]
  },
  {
   "cell_type": "code",
   "execution_count": 14,
   "metadata": {},
   "outputs": [
    {
     "name": "stdout",
     "output_type": "stream",
     "text": [
      "[['n.a.' 0.28187919463087246 0.4285714285714286]\n",
      " ['n.a.' 0.26666666666666666 0.41100702576112413]\n",
      " ['n.a.' 0.2675615212527964 0.24355971896955506]\n",
      " ...\n",
      " ['n.a.' 0.17897091722595077 0.7306791569086653]\n",
      " ['n.a.' 0.17897091722595077 0.6639344262295083]\n",
      " ['n.a.' 0.17897091722595077 0.6241217798594848]]\n",
      "(1058, 1)\n",
      "(1058, 1)\n"
     ]
    }
   ],
   "source": [
    "from sklearn import linear_model\n",
    "regress=linear_model.LinearRegression()\n",
    "\n",
    "df2=df.values\n",
    "print(df2)\n",
    "train_x=df2[:,1].reshape(-1,1)\n",
    "train_y=df2[:,2].reshape(-1,1)\n",
    "print(train_x.shape)\n",
    "print(train_y.shape)"
   ]
  },
  {
   "cell_type": "code",
   "execution_count": 15,
   "metadata": {},
   "outputs": [
    {
     "name": "stdout",
     "output_type": "stream",
     "text": [
      "[[0.28187919]\n",
      " [0.26666667]\n",
      " [0.26756152]\n",
      " ...\n",
      " [0.17897092]\n",
      " [0.17897092]\n",
      " [0.17897092]]\n"
     ]
    }
   ],
   "source": [
    "from sklearn.preprocessing import MinMaxScaler\n",
    "ms=MinMaxScaler()\n",
    "train_x=ms.fit_transform(train_x)\n",
    "print(train_x)\n"
   ]
  },
  {
   "cell_type": "code",
   "execution_count": 17,
   "metadata": {},
   "outputs": [
    {
     "name": "stdout",
     "output_type": "stream",
     "text": [
      "coeff [[1.02421213]]\n",
      "Intercept [0.1703597]\n"
     ]
    }
   ],
   "source": [
    "regress.fit(train_x,train_y)\n",
    "print(\"coeff\",regress.coef_)\n",
    "print('Intercept',regress.intercept_)"
   ]
  },
  {
   "cell_type": "code",
   "execution_count": 23,
   "metadata": {},
   "outputs": [
    {
     "name": "stdout",
     "output_type": "stream",
     "text": [
      "Mean absolute error (MAE): %.2f 0.0909802486561303\n",
      "Mean square error (MSE): %.2f 0.014756921649023527\n",
      "R2-score: %.2f (RMSE): -0.3761009949355014\n"
     ]
    }
   ],
   "source": [
    "from sklearn.metrics import r2_score\n",
    "\n",
    "test_x=df2[:,1].reshape(-1,1)\n",
    "test_y=df2[:,2].reshape(-1,1)\n",
    "test_y_predicted = regress.predict(test_x)\n",
    "\n",
    "print(\"Mean absolute error (MAE): %.2f\" , np.mean(np.absolute(test_y_predicted - test_y)))\n",
    "print(\"Mean square error (MSE): %.2f\" , np.mean((test_y_predicted - test_y) ** 2))\n",
    "print(\"R2-score: %.2f (RMSE):\" , r2_score(test_y_predicted , test_y) )"
   ]
  },
  {
   "cell_type": "code",
   "execution_count": null,
   "metadata": {},
   "outputs": [],
   "source": []
  },
  {
   "cell_type": "code",
   "execution_count": null,
   "metadata": {},
   "outputs": [],
   "source": []
  }
 ],
 "metadata": {
  "kernelspec": {
   "display_name": "Python 3",
   "language": "python",
   "name": "python3"
  },
  "language_info": {
   "codemirror_mode": {
    "name": "ipython",
    "version": 3
   },
   "file_extension": ".py",
   "mimetype": "text/x-python",
   "name": "python",
   "nbconvert_exporter": "python",
   "pygments_lexer": "ipython3",
   "version": "3.7.6"
  }
 },
 "nbformat": 4,
 "nbformat_minor": 4
}
